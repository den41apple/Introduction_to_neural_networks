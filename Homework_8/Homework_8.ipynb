{
 "cells": [
  {
   "cell_type": "markdown",
   "metadata": {},
   "source": [
    "# Домашняя работа №8"
   ]
  },
  {
   "cell_type": "markdown",
   "metadata": {},
   "source": [
    "#### Задание\n",
    "    Попробуйте улучшить работу нейронной сети рассмотренной в методическом пособии. Приложите анализ. Приложете лучшее сгенерированное изображение к уроку.\n",
    "    Обратите внимание для запуска нейронной сети понадобиться tensorflow 2.1.0 и минимум 8gb опер. памяти(если запускать на процессоре)."
   ]
  },
  {
   "cell_type": "markdown",
   "metadata": {},
   "source": [
    "**Я сделал VAE для CIFAR10**"
   ]
  },
  {
   "cell_type": "code",
   "execution_count": 1,
   "metadata": {
    "executionInfo": {
     "elapsed": 7020,
     "status": "ok",
     "timestamp": 1646493537979,
     "user": {
      "displayName": "Mariia Korliakova",
      "photoUrl": "https://lh3.googleusercontent.com/a/default-user=s64",
      "userId": "14165537686129864864"
     },
     "user_tz": -180
    },
    "id": "ayKbtHmgJAjs"
   },
   "outputs": [],
   "source": [
    "import numpy as np\n",
    "import tensorflow as tf\n",
    "from matplotlib import pyplot as plt\n",
    "from tensorflow import keras\n",
    "from tensorflow.keras import layers\n",
    "from tensorflow.keras.datasets import cifar10"
   ]
  },
  {
   "cell_type": "markdown",
   "metadata": {},
   "source": [
    "#### Датасет CIFAR"
   ]
  },
  {
   "cell_type": "code",
   "execution_count": 2,
   "metadata": {},
   "outputs": [
    {
     "name": "stdout",
     "output_type": "stream",
     "text": [
      "X_train shape: (50000, 32, 32, 3)\n",
      "50000 тренировочные примеры\n",
      "10000 тестовые примеры\n"
     ]
    }
   ],
   "source": [
    "# разделение тренировочной и тестовой выборки\n",
    "(X_train, y_train), (X_test, y_test) = cifar10.load_data()\n",
    "print('X_train shape:', X_train.shape)\n",
    "print(X_train.shape[0], 'тренировочные примеры')\n",
    "print(X_test.shape[0], 'тестовые примеры')\n",
    "\n",
    "num_classes = 10\n",
    "# преобразование матрицы чисел 0-9 в бинарную матрицу чисел 0-1\n",
    "y_train = keras.utils.to_categorical(y_train, num_classes)\n",
    "y_test = keras.utils.to_categorical(y_test, num_classes)\n",
    "\n",
    "\n",
    "# X_train = X_train.astype('float32')\n",
    "# X_test = X_test.astype('float32')\n",
    "# X_train /= 255\n",
    "# X_test /= 255"
   ]
  },
  {
   "cell_type": "code",
   "execution_count": 3,
   "metadata": {},
   "outputs": [
    {
     "data": {
      "image/png": "[encoded data removed]",
      "text/plain": [
       "<Figure size 432x288 with 1 Axes>"
      ]
     },
     "metadata": {
      "needs_background": "light"
     },
     "output_type": "display_data"
    }
   ],
   "source": [
    "classes=['самолет', 'автомобиль', 'птица', 'кот', 'олень', 'собака', 'лягушка', 'лошадь', 'корабль', 'грузовик']\n",
    "N = 11\n",
    "\n",
    "plt.imshow(X_test[N][:,:,:])\n",
    "plt.title('это : '+classes[np.argmax(y_test[N,:])])\n",
    "plt.show()"
   ]
  },
  {
   "cell_type": "markdown",
   "metadata": {
    "id": "ZSQvYJyTJAjz"
   },
   "source": [
    "## Строим слой семплирования sampling layer\n"
   ]
  },
  {
   "cell_type": "code",
   "execution_count": 4,
   "metadata": {
    "executionInfo": {
     "elapsed": 268,
     "status": "ok",
     "timestamp": 1646493720351,
     "user": {
      "displayName": "Mariia Korliakova",
      "photoUrl": "https://lh3.googleusercontent.com/a/default-user=s64",
      "userId": "14165537686129864864"
     },
     "user_tz": -180
    },
    "id": "76cCBCDyJAj0"
   },
   "outputs": [],
   "source": [
    "class Sampling(layers.Layer):\n",
    "    \"\"\"Uses (z_mean, z_log_var) to sample z, the vector encoding a digit.\"\"\"\n",
    "\n",
    "    def call(self, inputs):\n",
    "        z_mean, z_log_var = inputs\n",
    "        batch = tf.shape(z_mean)[0]\n",
    "        dim = tf.shape(z_mean)[1]\n",
    "        epsilon = tf.keras.backend.random_normal(shape=(batch, dim))\n",
    "        return z_mean + tf.exp(0.5 * z_log_var) * epsilon"
   ]
  },
  {
   "cell_type": "markdown",
   "metadata": {
    "id": "Fz7NINltJAj5"
   },
   "source": [
    "## Строим энкодер encoder\n"
   ]
  },
  {
   "cell_type": "code",
   "execution_count": 5,
   "metadata": {
    "colab": {
     "base_uri": "https://localhost:8080/"
    },
    "executionInfo": {
     "elapsed": 3790,
     "status": "ok",
     "timestamp": 1646494066147,
     "user": {
      "displayName": "Mariia Korliakova",
      "photoUrl": "https://lh3.googleusercontent.com/a/default-user=s64",
      "userId": "14165537686129864864"
     },
     "user_tz": -180
    },
    "id": "TYvOHB1QJAj6",
    "outputId": "a4dd7d72-6380-4483-cba3-5f3582632a1a",
    "tags": []
   },
   "outputs": [
    {
     "name": "stdout",
     "output_type": "stream",
     "text": [
      "Model: \"encoder\"\n",
      "__________________________________________________________________________________________________\n",
      " Layer (type)                   Output Shape         Param #     Connected to                     \n",
      "==================================================================================================\n",
      " input_1 (InputLayer)           [(None, 32, 32, 3)]  0           []                               \n",
      "                                                                                                  \n",
      " conv2d (Conv2D)                (None, 32, 32, 3)    39          ['input_1[0][0]']                \n",
      "                                                                                                  \n",
      " conv2d_1 (Conv2D)              (None, 16, 16, 32)   416         ['conv2d[0][0]']                 \n",
      "                                                                                                  \n",
      " conv2d_2 (Conv2D)              (None, 16, 16, 32)   9248        ['conv2d_1[0][0]']               \n",
      "                                                                                                  \n",
      " flatten (Flatten)              (None, 8192)         0           ['conv2d_2[0][0]']               \n",
      "                                                                                                  \n",
      " dense (Dense)                  (None, 512)          4194816     ['flatten[0][0]']                \n",
      "                                                                                                  \n",
      " z_mean (Dense)                 (None, 512)          262656      ['dense[0][0]']                  \n",
      "                                                                                                  \n",
      " z_log_var (Dense)              (None, 512)          262656      ['dense[0][0]']                  \n",
      "                                                                                                  \n",
      " sampling (Sampling)            (None, 512)          0           ['z_mean[0][0]',                 \n",
      "                                                                  'z_log_var[0][0]']              \n",
      "                                                                                                  \n",
      "==================================================================================================\n",
      "Total params: 4,729,831\n",
      "Trainable params: 4,729,831\n",
      "Non-trainable params: 0\n",
      "__________________________________________________________________________________________________\n"
     ]
    }
   ],
   "source": [
    "latent_dim = 512\n",
    "\n",
    "encoder_inputs = keras.Input(shape=(32, 32, 3))\n",
    "x = layers.Conv2D(3, (2, 2), activation=\"relu\", padding=\"same\")(encoder_inputs)\n",
    "x = layers.Conv2D(32, (2, 2), activation=\"relu\", strides=(2, 2), padding=\"same\")(x)\n",
    "# x = layers.Conv2D(32, 3, activation=\"relu\", strides=1, padding=\"same\")(x)\n",
    "x = layers.Conv2D(32, 3, activation=\"relu\", strides=1, padding=\"same\")(x)\n",
    "x = layers.Flatten()(x)\n",
    "x = layers.Dense(512, activation=\"relu\")(x)\n",
    "z_mean = layers.Dense(latent_dim, name=\"z_mean\")(x)\n",
    "z_log_var = layers.Dense(latent_dim, name=\"z_log_var\")(x)\n",
    "z = Sampling()([z_mean, z_log_var])\n",
    "encoder = keras.Model(encoder_inputs, [z_mean, z_log_var, z], name=\"encoder\")\n",
    "encoder.summary()\n"
   ]
  },
  {
   "cell_type": "markdown",
   "metadata": {
    "id": "rSqu44PJJAj_"
   },
   "source": [
    "## Строим свой decoder\n"
   ]
  },
  {
   "cell_type": "code",
   "execution_count": 6,
   "metadata": {
    "colab": {
     "base_uri": "https://localhost:8080/"
    },
    "executionInfo": {
     "elapsed": 426,
     "status": "ok",
     "timestamp": 1646494069804,
     "user": {
      "displayName": "Mariia Korliakova",
      "photoUrl": "https://lh3.googleusercontent.com/a/default-user=s64",
      "userId": "14165537686129864864"
     },
     "user_tz": -180
    },
    "id": "nOOEVMsyJAkA",
    "outputId": "8742ba8a-4b7c-4fe6-aecc-8a5091cb79a6"
   },
   "outputs": [
    {
     "name": "stdout",
     "output_type": "stream",
     "text": [
      "Model: \"decoder\"\n",
      "_________________________________________________________________\n",
      " Layer (type)                Output Shape              Param #   \n",
      "=================================================================\n",
      " input_2 (InputLayer)        [(None, 512)]             0         \n",
      "                                                                 \n",
      " dense_1 (Dense)             (None, 8192)              4202496   \n",
      "                                                                 \n",
      " reshape (Reshape)           (None, 8, 8, 128)         0         \n",
      "                                                                 \n",
      " conv2d_transpose (Conv2DTra  (None, 16, 16, 128)      147584    \n",
      " nspose)                                                         \n",
      "                                                                 \n",
      " conv2d_transpose_1 (Conv2DT  (None, 16, 16, 128)      147584    \n",
      " ranspose)                                                       \n",
      "                                                                 \n",
      " conv2d_transpose_2 (Conv2DT  (None, 32, 32, 32)       36896     \n",
      " ranspose)                                                       \n",
      "                                                                 \n",
      " conv2d_transpose_3 (Conv2DT  (None, 32, 32, 3)        867       \n",
      " ranspose)                                                       \n",
      "                                                                 \n",
      "=================================================================\n",
      "Total params: 4,535,427\n",
      "Trainable params: 4,535,427\n",
      "Non-trainable params: 0\n",
      "_________________________________________________________________\n"
     ]
    }
   ],
   "source": [
    "latent_inputs = keras.Input(shape=(latent_dim,))\n",
    "x = layers.Dense(8 * 8 * 64, activation=\"relu\")(latent_inputs)\n",
    "x = layers.Reshape((8, 8, 64))(x)\n",
    "x = layers.Conv2DTranspose(64, 3, activation=\"relu\", strides=2, padding=\"same\")(x)\n",
    "x = layers.Conv2DTranspose(64, 3, activation=\"relu\", strides=1, padding=\"same\")(x)\n",
    "x = layers.Conv2DTranspose(32, 3, activation=\"relu\", strides=2, padding=\"same\")(x)\n",
    "decoder_outputs = layers.Conv2DTranspose(3, 3, activation=\"sigmoid\", padding=\"same\")(x)\n",
    "decoder = keras.Model(latent_inputs, decoder_outputs, name=\"decoder\")\n",
    "decoder.summary()\n"
   ]
  },
  {
   "cell_type": "markdown",
   "metadata": {
    "id": "sLqJ_0b0JAkF"
   },
   "source": [
    "## Создаем класс модель по `Model` с особым шагом *обучения* `train_step`\n"
   ]
  },
  {
   "cell_type": "code",
   "execution_count": 7,
   "metadata": {
    "executionInfo": {
     "elapsed": 267,
     "status": "ok",
     "timestamp": 1646494414690,
     "user": {
      "displayName": "Mariia Korliakova",
      "photoUrl": "https://lh3.googleusercontent.com/a/default-user=s64",
      "userId": "14165537686129864864"
     },
     "user_tz": -180
    },
    "id": "3lEx4KvUJAkG"
   },
   "outputs": [],
   "source": [
    "\n",
    "class VAE(keras.Model):\n",
    "    def __init__(self, encoder, decoder, **kwargs):\n",
    "        super(VAE, self).__init__(**kwargs)\n",
    "        self.encoder = encoder\n",
    "        self.decoder = decoder\n",
    "\n",
    "    def train_step(self, data):\n",
    "        if isinstance(data, tuple):\n",
    "            data = data[0]\n",
    "        with tf.GradientTape() as tape:\n",
    "            z_mean, z_log_var, z = encoder(data)\n",
    "            reconstruction = decoder(z)\n",
    "            reconstruction_loss = tf.reduce_mean(\n",
    "                keras.losses.binary_crossentropy(data, reconstruction)\n",
    "            )\n",
    "            reconstruction_loss *= 32 * 32\n",
    "            kl_loss = 1 + z_log_var - tf.square(z_mean) - tf.exp(z_log_var)\n",
    "            kl_loss = tf.reduce_mean(kl_loss)\n",
    "            kl_loss *= -0.5\n",
    "            total_loss = reconstruction_loss + kl_loss\n",
    "        grads = tape.gradient(total_loss, self.trainable_weights)\n",
    "        self.optimizer.apply_gradients(zip(grads, self.trainable_weights))\n",
    "        return {\n",
    "            \"loss\": total_loss,\n",
    "            \"reconstruction_loss\": reconstruction_loss,\n",
    "            \"kl_loss\": kl_loss,\n",
    "        }\n",
    "\n"
   ]
  },
  {
   "cell_type": "markdown",
   "metadata": {
    "id": "VcLpF0lKJAkM"
   },
   "source": [
    "## Учим VAE\n"
   ]
  },
  {
   "cell_type": "code",
   "execution_count": 8,
   "metadata": {
    "colab": {
     "base_uri": "https://localhost:8080/"
    },
    "executionInfo": {
     "elapsed": 144115,
     "status": "ok",
     "timestamp": 1646494565097,
     "user": {
      "displayName": "Mariia Korliakova",
      "photoUrl": "https://lh3.googleusercontent.com/a/default-user=s64",
      "userId": "14165537686129864864"
     },
     "user_tz": -180
    },
    "id": "3wysioTXJAkN",
    "outputId": "6a57814d-8642-4c3e-f096-d7eb41cfac06",
    "tags": []
   },
   "outputs": [],
   "source": [
    "cifar = np.concatenate([X_train, X_test], axis=0)\n",
    "cifar = cifar.astype(\"float32\") / 255\n",
    "\n",
    "vae = VAE(encoder, decoder)\n",
    "vae.compile(optimizer=keras.optimizers.Adam())"
   ]
  },
  {
   "cell_type": "code",
   "execution_count": 38,
   "metadata": {
    "collapsed": true,
    "jupyter": {
     "outputs_hidden": true
    },
    "tags": []
   },
   "outputs": [
    {
     "name": "stdout",
     "output_type": "stream",
     "text": [
      "Epoch 1/25\n",
      "100/100 [==============================] - 8s 79ms/step - loss: 572.8873 - reconstruction_loss: 570.9350 - kl_loss: 1.9523\n",
      "Epoch 2/25\n",
      "100/100 [==============================] - 8s 78ms/step - loss: 572.7805 - reconstruction_loss: 570.8370 - kl_loss: 1.9435\n",
      "Epoch 3/25\n",
      "100/100 [==============================] - 8s 78ms/step - loss: 572.5849 - reconstruction_loss: 570.6460 - kl_loss: 1.9389\n",
      "Epoch 4/25\n",
      "100/100 [==============================] - 8s 78ms/step - loss: 572.7535 - reconstruction_loss: 570.8134 - kl_loss: 1.9401\n",
      "Epoch 5/25\n",
      "100/100 [==============================] - 8s 78ms/step - loss: 572.2488 - reconstruction_loss: 570.3185 - kl_loss: 1.9303\n",
      "Epoch 6/25\n",
      "100/100 [==============================] - 8s 78ms/step - loss: 572.1159 - reconstruction_loss: 570.1960 - kl_loss: 1.9198\n",
      "Epoch 7/25\n",
      "100/100 [==============================] - 8s 78ms/step - loss: 572.0794 - reconstruction_loss: 570.1645 - kl_loss: 1.9149\n",
      "Epoch 8/25\n",
      "100/100 [==============================] - 8s 78ms/step - loss: 571.9884 - reconstruction_loss: 570.0769 - kl_loss: 1.9115\n",
      "Epoch 9/25\n",
      "100/100 [==============================] - 8s 78ms/step - loss: 572.0183 - reconstruction_loss: 570.1147 - kl_loss: 1.9035\n",
      "Epoch 10/25\n",
      "100/100 [==============================] - 8s 78ms/step - loss: 571.5154 - reconstruction_loss: 569.6210 - kl_loss: 1.8944\n",
      "Epoch 11/25\n",
      "100/100 [==============================] - 8s 78ms/step - loss: 571.3783 - reconstruction_loss: 569.4862 - kl_loss: 1.8921\n",
      "Epoch 12/25\n",
      "100/100 [==============================] - 8s 78ms/step - loss: 571.3991 - reconstruction_loss: 569.5167 - kl_loss: 1.8824\n",
      "Epoch 13/25\n",
      "100/100 [==============================] - 8s 78ms/step - loss: 571.2982 - reconstruction_loss: 569.4215 - kl_loss: 1.8767\n",
      "Epoch 14/25\n",
      "100/100 [==============================] - 8s 78ms/step - loss: 571.2868 - reconstruction_loss: 569.4121 - kl_loss: 1.8747\n",
      "Epoch 15/25\n",
      "100/100 [==============================] - 8s 78ms/step - loss: 571.2018 - reconstruction_loss: 569.3347 - kl_loss: 1.8671\n",
      "Epoch 16/25\n",
      "100/100 [==============================] - 8s 78ms/step - loss: 570.9177 - reconstruction_loss: 569.0554 - kl_loss: 1.8623\n",
      "Epoch 17/25\n",
      "100/100 [==============================] - 8s 79ms/step - loss: 570.9921 - reconstruction_loss: 569.1334 - kl_loss: 1.8587\n",
      "Epoch 18/25\n",
      "100/100 [==============================] - 8s 79ms/step - loss: 570.9755 - reconstruction_loss: 569.1246 - kl_loss: 1.8509\n",
      "Epoch 19/25\n",
      "100/100 [==============================] - 8s 79ms/step - loss: 571.0359 - reconstruction_loss: 569.1869 - kl_loss: 1.8490\n",
      "Epoch 20/25\n",
      "100/100 [==============================] - 8s 79ms/step - loss: 570.5820 - reconstruction_loss: 568.7415 - kl_loss: 1.8405\n",
      "Epoch 21/25\n",
      "100/100 [==============================] - 8s 79ms/step - loss: 570.8185 - reconstruction_loss: 568.9812 - kl_loss: 1.8373\n",
      "Epoch 22/25\n",
      "100/100 [==============================] - 8s 79ms/step - loss: 570.4666 - reconstruction_loss: 568.6363 - kl_loss: 1.8303\n",
      "Epoch 23/25\n",
      "100/100 [==============================] - 8s 79ms/step - loss: 570.5513 - reconstruction_loss: 568.7224 - kl_loss: 1.8289\n",
      "Epoch 24/25\n",
      "100/100 [==============================] - 8s 79ms/step - loss: 570.3643 - reconstruction_loss: 568.5418 - kl_loss: 1.8225\n",
      "Epoch 25/25\n",
      "100/100 [==============================] - 8s 79ms/step - loss: 570.2805 - reconstruction_loss: 568.4650 - kl_loss: 1.8155\n"
     ]
    },
    {
     "data": {
      "text/plain": [
       "<keras.callbacks.History at 0x19bddf7ce20>"
      ]
     },
     "execution_count": 38,
     "metadata": {},
     "output_type": "execute_result"
    }
   ],
   "source": [
    "vae.fit(cifar, epochs=50, batch_size=600)  # 570"
   ]
  },
  {
   "cell_type": "markdown",
   "metadata": {},
   "source": [
    "### Для тестирования результатов погенерируем скрытый вектор"
   ]
  },
  {
   "cell_type": "code",
   "execution_count": 47,
   "metadata": {},
   "outputs": [
    {
     "data": {
      "image/png": "[encoded data removed]",
      "text/plain": [
       "<Figure size 432x288 with 1 Axes>"
      ]
     },
     "metadata": {
      "needs_background": "light"
     },
     "output_type": "display_data"
    },
    {
     "data": {
      "image/png": "[encoded data removed]",
      "text/plain": [
       "<Figure size 432x288 with 1 Axes>"
      ]
     },
     "metadata": {
      "needs_background": "light"
     },
     "output_type": "display_data"
    },
    {
     "data": {
      "image/png": "[encoded data removed]",
      "text/plain": [
       "<Figure size 432x288 with 1 Axes>"
      ]
     },
     "metadata": {
      "needs_background": "light"
     },
     "output_type": "display_data"
    },
    {
     "data": {
      "image/png": "[encoded data removed]",
      "text/plain": [
       "<Figure size 432x288 with 1 Axes>"
      ]
     },
     "metadata": {
      "needs_background": "light"
     },
     "output_type": "display_data"
    },
    {
     "data": {
      "image/png": "[encoded data removed]",
      "text/plain": [
       "<Figure size 432x288 with 1 Axes>"
      ]
     },
     "metadata": {
      "needs_background": "light"
     },
     "output_type": "display_data"
    }
   ],
   "source": [
    "for i in range(5):\n",
    "    z_sample = np.array([np.random.rand(latent_dim)])\n",
    "    x_decoded = decoder.predict(z_sample, verbose=0)\n",
    "    plt.imshow(x_decoded.reshape((32, 32, 3)))\n",
    "    plt.show()"
   ]
  },
  {
   "cell_type": "code",
   "execution_count": null,
   "metadata": {},
   "outputs": [],
   "source": []
  },
  {
   "cell_type": "code",
   "execution_count": null,
   "metadata": {},
   "outputs": [],
   "source": []
  }
 ],
 "metadata": {
  "accelerator": "GPU",
  "colab": {
   "collapsed_sections": [],
   "name": "vae.ipynb",
   "provenance": []
  },
  "kernelspec": {
   "display_name": "Python 3 (ipykernel)",
   "language": "python",
   "name": "python3"
  },
  "language_info": {
   "codemirror_mode": {
    "name": "ipython",
    "version": 3
   },
   "file_extension": ".py",
   "mimetype": "text/x-python",
   "name": "python",
   "nbconvert_exporter": "python",
   "pygments_lexer": "ipython3",
   "version": "3.9.7"
  }
 },
 "nbformat": 4,
 "nbformat_minor": 4
}
