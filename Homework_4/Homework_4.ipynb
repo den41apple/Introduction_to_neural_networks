{
  "cells": [
    {
      "cell_type": "markdown",
      "id": "307fea7c-407f-4912-af5d-d4198d52c1a1",
      "metadata": {
        "id": "307fea7c-407f-4912-af5d-d4198d52c1a1"
      },
      "source": [
        "# Домашняя работа №4"
      ]
    },
    {
      "cell_type": "markdown",
      "id": "1c643109-a566-4513-8f3d-e8d72130e857",
      "metadata": {
        "id": "1c643109-a566-4513-8f3d-e8d72130e857"
      },
      "source": [
        "## Задание\n",
        "- обучить сверточную нейронную сеть в стиле AlexNet (с падением размера ядра свертки и последовательностью блоков свертка-пулинг  (conv-pool)-(conv-pool)-...) на датасете fashion-mnist или cifar10\n",
        "- оценить рост точности при увеличении ширины сети (больше ядер)\n",
        "- оценить рост точности при увеличении глубины сети (больше слоев)"
      ]
    },
    {
      "cell_type": "code",
      "execution_count": 18,
      "id": "e93f5c97-3cb2-4b0c-b92f-6c5ea4ec5009",
      "metadata": {
        "id": "e93f5c97-3cb2-4b0c-b92f-6c5ea4ec5009"
      },
      "outputs": [],
      "source": [
        "from __future__ import print_function\n",
        "from matplotlib import pyplot as plt\n",
        "import numpy as np\n",
        "import tensorflow as tf\n",
        "from tensorflow import keras\n",
        "#import tensorflow.keras as keras # расскоментируйте эту строку, чтобы начать обучение\n",
        "from tensorflow.keras.datasets import cifar10\n",
        "from tensorflow.keras.preprocessing.image import ImageDataGenerator\n",
        "from tensorflow.keras.models import Sequential\n",
        "from tensorflow.keras.layers import Dense, Dropout, Activation, Flatten\n",
        "from tensorflow.keras.layers import Conv2D, MaxPooling2D\n",
        "import os"
      ]
    },
    {
      "cell_type": "code",
      "execution_count": 19,
      "id": "a4704954-feb0-4413-a778-43db668bf848",
      "metadata": {
        "colab": {
          "base_uri": "https://localhost:8080/"
        },
        "id": "a4704954-feb0-4413-a778-43db668bf848",
        "outputId": "9905ce86-f4b4-4c88-d3c3-401d9630bb35"
      },
      "outputs": [
        {
          "output_type": "stream",
          "name": "stdout",
          "text": [
            "[name: \"/device:CPU:0\"\n",
            "device_type: \"CPU\"\n",
            "memory_limit: 268435456\n",
            "locality {\n",
            "}\n",
            "incarnation: 16646280788217724979\n",
            "xla_global_id: -1\n",
            ", name: \"/device:GPU:0\"\n",
            "device_type: \"GPU\"\n",
            "memory_limit: 14465892352\n",
            "locality {\n",
            "  bus_id: 1\n",
            "  links {\n",
            "  }\n",
            "}\n",
            "incarnation: 15362086622686165416\n",
            "physical_device_desc: \"device: 0, name: Tesla T4, pci bus id: 0000:00:04.0, compute capability: 7.5\"\n",
            "xla_global_id: 416903419\n",
            "]\n",
            "Num GPUs Available:  1\n"
          ]
        }
      ],
      "source": [
        "\n",
        "from tensorflow.python.client import device_lib\n",
        "print(device_lib.list_local_devices())\n",
        "print(\"Num GPUs Available: \", len(tf.config.experimental.list_physical_devices('GPU')))"
      ]
    },
    {
      "cell_type": "code",
      "execution_count": 20,
      "id": "6cb9e73a-bc84-4555-9a9c-e079cee35a9c",
      "metadata": {
        "id": "6cb9e73a-bc84-4555-9a9c-e079cee35a9c"
      },
      "outputs": [],
      "source": [
        "classes=['самолет', 'автомобиль', 'птица', 'кот', 'олень', 'собака', 'лягушка', 'лошадь', 'корабль', 'грузовик']"
      ]
    },
    {
      "cell_type": "code",
      "execution_count": 25,
      "id": "dab670f7-b924-4a32-99a9-72512001d934",
      "metadata": {
        "colab": {
          "base_uri": "https://localhost:8080/"
        },
        "id": "dab670f7-b924-4a32-99a9-72512001d934",
        "outputId": "9b8f569f-1b6a-4bce-d16d-fd393939c16c"
      },
      "outputs": [
        {
          "output_type": "stream",
          "name": "stdout",
          "text": [
            "x_train shape: (50000, 32, 32, 3)\n",
            "50000 тренировочные примеры\n",
            "10000 тестовые примеры\n"
          ]
        }
      ],
      "source": [
        "# установка параметров нейросети\n",
        "batch_size = 32\n",
        "num_classes = 10\n",
        "epochs = 1\n",
        "data_augmentation = True\n",
        "num_predictions = 20\n",
        "save_dir = os.path.join(os.getcwd(), 'saved_models')\n",
        "model_name = 'keras_cifar10_trained_model.h5'\n",
        "\n",
        "# разделение тренировочной и тестовой выборки\n",
        "(x_train, y_train), (x_test, y_test) = cifar10.load_data()\n",
        "print('x_train shape:', x_train.shape)\n",
        "print(x_train.shape[0], 'тренировочные примеры')\n",
        "print(x_test.shape[0], 'тестовые примеры')\n",
        "\n",
        "# преобразование матрицы чисел 0-9 в бинарную матрицу чисел 0-1\n",
        "y_train = keras.utils.to_categorical(y_train, num_classes)\n",
        "y_test = keras.utils.to_categorical(y_test, num_classes)\n",
        "\n",
        "\n",
        "x_train = x_train.astype('float32')\n",
        "x_test = x_test.astype('float32')\n",
        "x_train /= 255\n",
        "x_test /= 255"
      ]
    },
    {
      "cell_type": "code",
      "execution_count": 26,
      "id": "bb5f2087-02ec-40dd-b993-c50802ea6676",
      "metadata": {
        "colab": {
          "base_uri": "https://localhost:8080/",
          "height": 281
        },
        "id": "bb5f2087-02ec-40dd-b993-c50802ea6676",
        "outputId": "81054748-742a-4153-da3e-78322a9e0581"
      },
      "outputs": [
        {
          "output_type": "display_data",
          "data": {
            "text/plain": [
              "<Figure size 432x288 with 1 Axes>"
            ],
            "image/png": "[encoded data removed]"
          },
          "metadata": {
            "needs_background": "light"
          }
        }
      ],
      "source": [
        "N = 11\n",
        "\n",
        "plt.imshow(x_test[N][:,:,:])\n",
        "plt.title('это : '+classes[np.argmax(y_test[N,:])])\n",
        "plt.show()"
      ]
    },
    {
      "cell_type": "markdown",
      "source": [
        "#### Напишем функцию автоматизирующую обучение"
      ],
      "metadata": {
        "id": "fliRhjCVrM9B"
      },
      "id": "fliRhjCVrM9B"
    },
    {
      "cell_type": "code",
      "execution_count": 42,
      "id": "636876c9-cd3f-4b73-b39e-f26f27ef64e2",
      "metadata": {
        "id": "636876c9-cd3f-4b73-b39e-f26f27ef64e2"
      },
      "outputs": [],
      "source": [
        "def fit_predict(model, data_augmentation):\n",
        "    \"\"\"Обучает модель\"\"\"\n",
        "    if not data_augmentation:\n",
        "        print('Не используется data augmentation')\n",
        "        model.fit(x_train, y_train,\n",
        "                  batch_size=batch_size,\n",
        "                  epochs=epochs,\n",
        "                  validation_data=(x_test, y_test),\n",
        "                  shuffle=True)\n",
        "    else:\n",
        "        print('Использование data augmentation в реальном времени')\n",
        "        # Препроцессинг и data augmentation в реальном времени:\n",
        "        datagen = ImageDataGenerator(featurewise_center=False,\n",
        "                                     samplewise_center=False,\n",
        "                                     featurewise_std_normalization=False,\n",
        "                                     samplewise_std_normalization=False,\n",
        "                                     zca_whitening=False, \n",
        "                                     zca_epsilon=1e-06, \n",
        "                                     rotation_range=5, \n",
        "                                     width_shift_range=0.1,\n",
        "                                     height_shift_range=0.1,\n",
        "                                     shear_range=0., \n",
        "                                     zoom_range=0., \n",
        "                                     channel_shift_range=0.,\n",
        "                                     fill_mode='nearest',\n",
        "                                     cval=0.,\n",
        "                                     horizontal_flip=True,\n",
        "                                     vertical_flip=False,\n",
        "                                     rescale=None,\n",
        "                                     preprocessing_function=None,\n",
        "                                     data_format=None,\n",
        "                                     validation_split=0.0)\n",
        "        # запуск data augmentation через fit\n",
        "        #datagen.fit(x_train)\n",
        "        # запуск data augmentation через fit_generator\n",
        "        model.fit(datagen.flow(x_train, y_train,\n",
        "                               batch_size=batch_size),\n",
        "                  epochs=epochs,\n",
        "                  validation_data=(x_test, y_test),\n",
        "                  workers=-1)\n",
        "    accuracy = model.history.history['accuracy']\n",
        "    loss = model.history.history['loss']\n",
        "    val_accuracy = model.history.history['val_accuracy']\n",
        "    val_loss = model.history.history['val_loss']\n",
        "    return accuracy, loss, val_accuracy, val_loss"
      ]
    },
    {
      "cell_type": "markdown",
      "source": [
        "#### Построим базовую сеть"
      ],
      "metadata": {
        "id": "8n1irk5Orl1q"
      },
      "id": "8n1irk5Orl1q"
    },
    {
      "cell_type": "code",
      "execution_count": 135,
      "id": "4acca283-cd3f-4e45-a41a-bfcf295a8329",
      "metadata": {
        "colab": {
          "base_uri": "https://localhost:8080/"
        },
        "id": "4acca283-cd3f-4e45-a41a-bfcf295a8329",
        "outputId": "0a1b409b-b917-415f-93e2-3b917c95ca52"
      },
      "outputs": [
        {
          "output_type": "stream",
          "name": "stdout",
          "text": [
            "Не используется data augmentation\n",
            "1563/1563 [==============================] - 9s 6ms/step - loss: 2.0956 - accuracy: 0.2243 - val_loss: 1.8920 - val_accuracy: 0.3374\n",
            "313/313 [==============================] - 1s 4ms/step - loss: 1.8920 - accuracy: 0.3374\n",
            "Test loss: 1.8919570446014404\n",
            "Test accuracy: 0.33739998936653137\n"
          ]
        }
      ],
      "source": [
        "# конфигурирование слоев нейросети\n",
        "model = Sequential()\n",
        "\n",
        "# слои нейросети отвественные за свертку и max-pooling\n",
        "model.add(Conv2D(32, (3, 3), padding='same',\n",
        "                 input_shape=x_train.shape[1:]))\n",
        "model.add(Activation('relu'))\n",
        "model.add(Conv2D(32, (3, 3)))\n",
        "model.add(Activation('relu'))\n",
        "model.add(MaxPooling2D(pool_size=(2, 2)))\n",
        "model.add(Dropout( 0.25))\n",
        "\n",
        "model.add(Conv2D(64, (3, 3), padding='same'))\n",
        "model.add(Activation('relu'))\n",
        "model.add(Conv2D(64, (3, 3)))\n",
        "model.add(Activation('relu'))\n",
        "model.add(MaxPooling2D(pool_size=(2, 2)))\n",
        "model.add(Dropout(0.25))\n",
        "\n",
        "# полносвязные слои нейронной сети\n",
        "model.add(Flatten())\n",
        "model.add(Dense(512))\n",
        "model.add(Activation('relu'))\n",
        "model.add(Dropout(0.5))\n",
        "model.add(Dense(num_classes))\n",
        "model.add(Activation('softmax'))\n",
        "\n",
        "\n",
        "# компиляция модели\n",
        "model.compile(loss='categorical_crossentropy',\n",
        "              optimizer='SGD',\n",
        "              metrics=['accuracy'])\n",
        "\n",
        "train_accuracy, train_loss, val_accuracy, val_loss = fit_predict(model, data_augmentation=False)\n",
        "\n",
        "# проверка работы обученной модели\n",
        "scores = model.evaluate(x_test, y_test, verbose=1)\n",
        "test_loss, test_accuracy = scores[0], scores[1]\n",
        "print('Test loss:', test_loss)\n",
        "print('Test accuracy:', test_accuracy)"
      ]
    },
    {
      "cell_type": "markdown",
      "source": [
        "## Увеличим кол-во ядер"
      ],
      "metadata": {
        "id": "NrEVxgQW3ZGQ"
      },
      "id": "NrEVxgQW3ZGQ"
    },
    {
      "cell_type": "code",
      "source": [
        "# конфигурирование слоев нейросети\n",
        "model = Sequential()\n",
        "\n",
        "# слои нейросети отвественные за свертку и max-pooling\n",
        "model.add(Conv2D(32, (5, 5), padding='same',\n",
        "                 input_shape=x_train.shape[1:]))\n",
        "model.add(Activation('relu'))\n",
        "model.add(Conv2D(32, (5, 5)))\n",
        "model.add(Activation('relu'))\n",
        "model.add(MaxPooling2D(pool_size=(2, 2)))\n",
        "model.add(Dropout( 0.25))\n",
        "\n",
        "model.add(Conv2D(64, (5, 5), padding='same'))\n",
        "model.add(Activation('relu'))\n",
        "model.add(Conv2D(64, (5, 5)))\n",
        "model.add(Activation('relu'))\n",
        "model.add(MaxPooling2D(pool_size=(2, 2)))\n",
        "model.add(Dropout(0.25))\n",
        "\n",
        "\n",
        "# полносвязные слои нейронной сети\n",
        "model.add(Flatten())\n",
        "model.add(Dense(512))\n",
        "model.add(Activation('relu'))\n",
        "model.add(Dropout(0.5))\n",
        "model.add(Dense(num_classes))\n",
        "model.add(Activation('softmax'))\n",
        "\n",
        "# компиляция модели\n",
        "model.compile(loss='categorical_crossentropy',\n",
        "              optimizer='SGD',\n",
        "              metrics=['accuracy'])"
      ],
      "metadata": {
        "id": "M8gtn429qhfH"
      },
      "id": "M8gtn429qhfH",
      "execution_count": 152,
      "outputs": []
    },
    {
      "cell_type": "code",
      "source": [
        "model.summary()"
      ],
      "metadata": {
        "colab": {
          "base_uri": "https://localhost:8080/"
        },
        "id": "2q1aKNnI4LH8",
        "outputId": "da820478-75bb-41bf-9284-057cf5f907e1"
      },
      "id": "2q1aKNnI4LH8",
      "execution_count": 153,
      "outputs": [
        {
          "output_type": "stream",
          "name": "stdout",
          "text": [
            "Model: \"sequential_53\"\n",
            "_________________________________________________________________\n",
            " Layer (type)                Output Shape              Param #   \n",
            "=================================================================\n",
            " conv2d_240 (Conv2D)         (None, 32, 32, 32)        2432      \n",
            "                                                                 \n",
            " activation_342 (Activation)  (None, 32, 32, 32)       0         \n",
            "                                                                 \n",
            " conv2d_241 (Conv2D)         (None, 28, 28, 32)        25632     \n",
            "                                                                 \n",
            " activation_343 (Activation)  (None, 28, 28, 32)       0         \n",
            "                                                                 \n",
            " max_pooling2d_119 (MaxPooli  (None, 14, 14, 32)       0         \n",
            " ng2D)                                                           \n",
            "                                                                 \n",
            " dropout_168 (Dropout)       (None, 14, 14, 32)        0         \n",
            "                                                                 \n",
            " conv2d_242 (Conv2D)         (None, 14, 14, 64)        51264     \n",
            "                                                                 \n",
            " activation_344 (Activation)  (None, 14, 14, 64)       0         \n",
            "                                                                 \n",
            " conv2d_243 (Conv2D)         (None, 10, 10, 64)        102464    \n",
            "                                                                 \n",
            " activation_345 (Activation)  (None, 10, 10, 64)       0         \n",
            "                                                                 \n",
            " max_pooling2d_120 (MaxPooli  (None, 5, 5, 64)         0         \n",
            " ng2D)                                                           \n",
            "                                                                 \n",
            " dropout_169 (Dropout)       (None, 5, 5, 64)          0         \n",
            "                                                                 \n",
            " flatten_50 (Flatten)        (None, 1600)              0         \n",
            "                                                                 \n",
            " dense_102 (Dense)           (None, 512)               819712    \n",
            "                                                                 \n",
            " activation_346 (Activation)  (None, 512)              0         \n",
            "                                                                 \n",
            " dropout_170 (Dropout)       (None, 512)               0         \n",
            "                                                                 \n",
            " dense_103 (Dense)           (None, 10)                5130      \n",
            "                                                                 \n",
            " activation_347 (Activation)  (None, 10)               0         \n",
            "                                                                 \n",
            "=================================================================\n",
            "Total params: 1,006,634\n",
            "Trainable params: 1,006,634\n",
            "Non-trainable params: 0\n",
            "_________________________________________________________________\n"
          ]
        }
      ]
    },
    {
      "cell_type": "code",
      "source": [
        "train_accuracy, train_loss, val_accuracy, val_loss = fit_predict(model, data_augmentation=False)\n",
        "# проверка работы обученной модели\n",
        "scores = model.evaluate(x_test, y_test, verbose=1)\n",
        "test_loss, test_accuracy = scores[0], scores[1]\n",
        "print('Test loss:', test_loss)\n",
        "print('Test accuracy:', test_accuracy)"
      ],
      "metadata": {
        "colab": {
          "base_uri": "https://localhost:8080/"
        },
        "id": "-_avxO4vzWIv",
        "outputId": "6770f705-2f42-4602-8e38-58d1a06abaa9"
      },
      "id": "-_avxO4vzWIv",
      "execution_count": 154,
      "outputs": [
        {
          "output_type": "stream",
          "name": "stdout",
          "text": [
            "Не используется data augmentation\n",
            "1563/1563 [==============================] - 11s 6ms/step - loss: 2.0292 - accuracy: 0.2421 - val_loss: 1.7133 - val_accuracy: 0.3814\n",
            "313/313 [==============================] - 2s 5ms/step - loss: 1.7133 - accuracy: 0.3814\n",
            "Test loss: 1.713327169418335\n",
            "Test accuracy: 0.3813999891281128\n"
          ]
        }
      ]
    },
    {
      "cell_type": "markdown",
      "source": [
        "**После увеличения ядра точность увеличилась**"
      ],
      "metadata": {
        "id": "OHovTjrX8vC6"
      },
      "id": "OHovTjrX8vC6"
    },
    {
      "cell_type": "markdown",
      "source": [
        "#### Добавим слои к первоначалной конфигурации"
      ],
      "metadata": {
        "id": "jCSNGvKf8l_4"
      },
      "id": "jCSNGvKf8l_4"
    },
    {
      "cell_type": "code",
      "source": [
        "# конфигурирование слоев нейросети\n",
        "model = Sequential()\n",
        "\n",
        "# слои нейросети отвественные за свертку и max-pooling\n",
        "model.add(Conv2D(32, (3, 3), padding='same',\n",
        "                 input_shape=x_train.shape[1:]))\n",
        "model.add(Activation('relu'))\n",
        "model.add(Conv2D(32, (3, 3)))\n",
        "model.add(Activation('relu'))\n",
        "model.add(MaxPooling2D(pool_size=(2, 2)))\n",
        "model.add(Dropout( 0.25))\n",
        "\n",
        "model.add(Conv2D(64, (3, 3), padding='same'))\n",
        "model.add(Activation('relu'))\n",
        "model.add(Conv2D(64, (3, 3)))\n",
        "model.add(Activation('relu'))\n",
        "model.add(MaxPooling2D(pool_size=(2, 2)))\n",
        "model.add(Dropout(0.25))\n",
        "\n",
        "model.add(Conv2D(64, (3, 3), padding='same'))\n",
        "model.add(Activation('relu'))\n",
        "model.add(Conv2D(64, (3, 3)))\n",
        "model.add(Activation('relu'))\n",
        "model.add(MaxPooling2D(pool_size=(2, 2)))\n",
        "model.add(Dropout(0.25))\n",
        "\n",
        "# полносвязные слои нейронной сети\n",
        "model.add(Flatten())\n",
        "model.add(Dense(512))\n",
        "model.add(Activation('relu'))\n",
        "model.add(Dropout(0.5))\n",
        "model.add(Dense(num_classes))\n",
        "model.add(Activation('softmax'))\n",
        "\n",
        "\n",
        "# компиляция модели\n",
        "model.compile(loss='categorical_crossentropy',\n",
        "              optimizer='SGD',\n",
        "              metrics=['accuracy'])"
      ],
      "metadata": {
        "id": "Jyh6cQYa8pro"
      },
      "id": "Jyh6cQYa8pro",
      "execution_count": 161,
      "outputs": []
    },
    {
      "cell_type": "code",
      "source": [
        "model.summary()"
      ],
      "metadata": {
        "colab": {
          "base_uri": "https://localhost:8080/"
        },
        "id": "vekpafT49lXf",
        "outputId": "7c0a7347-dfcb-45c6-ef96-f2e6f6a96a1c"
      },
      "id": "vekpafT49lXf",
      "execution_count": 162,
      "outputs": [
        {
          "output_type": "stream",
          "name": "stdout",
          "text": [
            "Model: \"sequential_56\"\n",
            "_________________________________________________________________\n",
            " Layer (type)                Output Shape              Param #   \n",
            "=================================================================\n",
            " conv2d_255 (Conv2D)         (None, 32, 32, 32)        896       \n",
            "                                                                 \n",
            " activation_363 (Activation)  (None, 32, 32, 32)       0         \n",
            "                                                                 \n",
            " conv2d_256 (Conv2D)         (None, 30, 30, 32)        9248      \n",
            "                                                                 \n",
            " activation_364 (Activation)  (None, 30, 30, 32)       0         \n",
            "                                                                 \n",
            " max_pooling2d_127 (MaxPooli  (None, 15, 15, 32)       0         \n",
            " ng2D)                                                           \n",
            "                                                                 \n",
            " dropout_179 (Dropout)       (None, 15, 15, 32)        0         \n",
            "                                                                 \n",
            " conv2d_257 (Conv2D)         (None, 15, 15, 64)        18496     \n",
            "                                                                 \n",
            " activation_365 (Activation)  (None, 15, 15, 64)       0         \n",
            "                                                                 \n",
            " conv2d_258 (Conv2D)         (None, 13, 13, 64)        36928     \n",
            "                                                                 \n",
            " activation_366 (Activation)  (None, 13, 13, 64)       0         \n",
            "                                                                 \n",
            " max_pooling2d_128 (MaxPooli  (None, 6, 6, 64)         0         \n",
            " ng2D)                                                           \n",
            "                                                                 \n",
            " dropout_180 (Dropout)       (None, 6, 6, 64)          0         \n",
            "                                                                 \n",
            " conv2d_259 (Conv2D)         (None, 6, 6, 64)          36928     \n",
            "                                                                 \n",
            " activation_367 (Activation)  (None, 6, 6, 64)         0         \n",
            "                                                                 \n",
            " conv2d_260 (Conv2D)         (None, 4, 4, 64)          36928     \n",
            "                                                                 \n",
            " activation_368 (Activation)  (None, 4, 4, 64)         0         \n",
            "                                                                 \n",
            " max_pooling2d_129 (MaxPooli  (None, 2, 2, 64)         0         \n",
            " ng2D)                                                           \n",
            "                                                                 \n",
            " dropout_181 (Dropout)       (None, 2, 2, 64)          0         \n",
            "                                                                 \n",
            " flatten_53 (Flatten)        (None, 256)               0         \n",
            "                                                                 \n",
            " dense_108 (Dense)           (None, 512)               131584    \n",
            "                                                                 \n",
            " activation_369 (Activation)  (None, 512)              0         \n",
            "                                                                 \n",
            " dropout_182 (Dropout)       (None, 512)               0         \n",
            "                                                                 \n",
            " dense_109 (Dense)           (None, 10)                5130      \n",
            "                                                                 \n",
            " activation_370 (Activation)  (None, 10)               0         \n",
            "                                                                 \n",
            "=================================================================\n",
            "Total params: 276,138\n",
            "Trainable params: 276,138\n",
            "Non-trainable params: 0\n",
            "_________________________________________________________________\n"
          ]
        }
      ]
    },
    {
      "cell_type": "code",
      "source": [
        "train_accuracy, train_loss, val_accuracy, val_loss = fit_predict(model, data_augmentation=False)\n",
        "\n",
        "# проверка работы обученной модели\n",
        "scores = model.evaluate(x_test, y_test, verbose=1)\n",
        "test_loss, test_accuracy = scores[0], scores[1]\n",
        "print('Test loss:', test_loss)\n",
        "print('Test accuracy:', test_accuracy)"
      ],
      "metadata": {
        "colab": {
          "base_uri": "https://localhost:8080/"
        },
        "id": "bZi4lpER88Qw",
        "outputId": "f104af40-3a01-454f-ce17-6e04fc458848"
      },
      "id": "bZi4lpER88Qw",
      "execution_count": 163,
      "outputs": [
        {
          "output_type": "stream",
          "name": "stdout",
          "text": [
            "Не используется data augmentation\n",
            "1563/1563 [==============================] - 10s 6ms/step - loss: 2.2331 - accuracy: 0.1502 - val_loss: 2.1453 - val_accuracy: 0.1936\n",
            "313/313 [==============================] - 1s 3ms/step - loss: 2.1453 - accuracy: 0.1936\n",
            "Test loss: 2.145282506942749\n",
            "Test accuracy: 0.19359999895095825\n"
          ]
        }
      ]
    },
    {
      "cell_type": "markdown",
      "source": [
        "**При добавлении слоев точность уменьшилась**"
      ],
      "metadata": {
        "id": "tzrcAuRPAmxL"
      },
      "id": "tzrcAuRPAmxL"
    },
    {
      "cell_type": "code",
      "source": [
        ""
      ],
      "metadata": {
        "id": "Vf3PRRJD9BrC"
      },
      "id": "Vf3PRRJD9BrC",
      "execution_count": null,
      "outputs": []
    }
  ],
  "metadata": {
    "kernelspec": {
      "display_name": "Python 3 (ipykernel)",
      "language": "python",
      "name": "python3"
    },
    "language_info": {
      "codemirror_mode": {
        "name": "ipython",
        "version": 3
      },
      "file_extension": ".py",
      "mimetype": "text/x-python",
      "name": "python",
      "nbconvert_exporter": "python",
      "pygments_lexer": "ipython3",
      "version": "3.9.7"
    },
    "colab": {
      "name": "Homework_4.ipynb",
      "provenance": []
    },
    "accelerator": "GPU"
  },
  "nbformat": 4,
  "nbformat_minor": 5
}